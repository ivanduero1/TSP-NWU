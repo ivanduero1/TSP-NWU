{
 "cells": [
  {
   "cell_type": "markdown",
   "metadata": {},
   "source": [
    "SET the distance to 0\n",
    "INITIALIZE the route as a list\n",
    "\n",
    "READ from distance_file\n",
    "\n",
    "    READ from name_file:\n",
    "        MAKE dictionary: (city1,city2): distance\n",
    "IF dictionary is empty:\n",
    "    RETURN the route, distance\n",
    "\n",
    "FOR value in dictionaty.values:\n",
    "    FIND the first minimum distance\n",
    "    APPEND cities to the route\n",
    "    INCREMENT distance \n",
    "    REMOVE the touple from the dictionary\n",
    "    CALL the function again \n"
   ]
  },
  {
   "cell_type": "code",
   "execution_count": 22,
   "metadata": {},
   "outputs": [
    {
     "name": "stdout",
     "output_type": "stream",
     "text": [
      "f\n"
     ]
    }
   ],
   "source": [
    "dict = {'f':1,'h':3}\n",
    "min(dict.values())\n",
    "for key in dict.keys():\n",
    "    if dict[key] == min(dict.values()):\n",
    "        print(key)"
   ]
  }
 ],
 "metadata": {
  "kernelspec": {
   "display_name": "Python 3",
   "language": "python",
   "name": "python3"
  },
  "language_info": {
   "codemirror_mode": {
    "name": "ipython",
    "version": 3
   },
   "file_extension": ".py",
   "mimetype": "text/x-python",
   "name": "python",
   "nbconvert_exporter": "python",
   "pygments_lexer": "ipython3",
   "version": "3.10.13"
  }
 },
 "nbformat": 4,
 "nbformat_minor": 2
}
