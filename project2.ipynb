{
 "cells": [
  {
   "cell_type": "markdown",
   "metadata": {},
   "source": [
    "SET the distance to 0\n",
    "INITIALIZE the route as a list\n",
    "\n",
    "READ from distance_file\n",
    "\n",
    "    READ from name_file:\n",
    "        MAKE dictionary: (city1,city2): distance\n",
    "IF dictionary is empty:\n",
    "    RETURN the route, distance\n",
    "\n",
    "FOR value in dictionaty.values:\n",
    "    FIND the first minimum distance\n",
    "    APPEND cities to the route\n",
    "    INCREMENT distance \n",
    "    REMOVE the touple from the dictionary\n",
    "    CALL the function again \n"
   ]
  }
 ],
 "metadata": {
  "language_info": {
   "name": "python"
  }
 },
 "nbformat": 4,
 "nbformat_minor": 2
}
